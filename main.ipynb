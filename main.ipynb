{
 "cells": [
  {
   "cell_type": "code",
   "execution_count": 16,
   "metadata": {},
   "outputs": [],
   "source": [
    "! pip3 install -qU  markdownify  langchain-upstage rank_bm25"
   ]
  },
  {
   "cell_type": "code",
   "execution_count": 17,
   "metadata": {},
   "outputs": [],
   "source": [
    "%load_ext dotenv\n",
    "%dotenv"
   ]
  },
  {
   "cell_type": "code",
   "execution_count": 18,
   "metadata": {},
   "outputs": [
    {
     "ename": "ModuleNotFoundError",
     "evalue": "No module named 'langchain_chroma'",
     "output_type": "error",
     "traceback": [
      "\u001b[1;31m---------------------------------------------------------------------------\u001b[0m",
      "\u001b[1;31mModuleNotFoundError\u001b[0m                       Traceback (most recent call last)",
      "Cell \u001b[1;32mIn[18], line 21\u001b[0m\n\u001b[0;32m     19\u001b[0m \u001b[38;5;28;01mfrom\u001b[39;00m \u001b[38;5;21;01mlangchain_upstage\u001b[39;00m \u001b[38;5;28;01mimport\u001b[39;00m ChatUpstage\n\u001b[0;32m     20\u001b[0m \u001b[38;5;28;01mfrom\u001b[39;00m \u001b[38;5;21;01mlangchain_core\u001b[39;00m\u001b[38;5;21;01m.\u001b[39;00m\u001b[38;5;21;01mmessages\u001b[39;00m \u001b[38;5;28;01mimport\u001b[39;00m HumanMessage, SystemMessage\n\u001b[1;32m---> 21\u001b[0m \u001b[38;5;28;01mfrom\u001b[39;00m \u001b[38;5;21;01mlangchain_chroma\u001b[39;00m \u001b[38;5;28;01mimport\u001b[39;00m Chroma\n\u001b[0;32m     25\u001b[0m \u001b[38;5;28;01mimport\u001b[39;00m \u001b[38;5;21;01mwarnings\u001b[39;00m\n\u001b[0;32m     26\u001b[0m warnings\u001b[38;5;241m.\u001b[39mfilterwarnings(\u001b[38;5;124m\"\u001b[39m\u001b[38;5;124mignore\u001b[39m\u001b[38;5;124m\"\u001b[39m)\n",
      "\u001b[1;31mModuleNotFoundError\u001b[0m: No module named 'langchain_chroma'"
     ]
    }
   ],
   "source": [
    "import sys\n",
    "import array\n",
    "import time\n",
    "import os\n",
    "from dotenv import load_dotenv\n",
    "\n",
    "import oracledb\n",
    "from langchain_community.vectorstores import oraclevs\n",
    "from langchain_community.vectorstores.oraclevs import OracleVS\n",
    "\n",
    "from langchain_community.vectorstores.utils import DistanceStrategy\n",
    "from langchain_core.documents import BaseDocumentTransformer, Document\n",
    "\n",
    "from langchain_core.prompts import PromptTemplate\n",
    "from langchain.chains import LLMChain\n",
    "from langchain_core.runnables import RunnablePassthrough\n",
    "from langchain_core.output_parsers import StrOutputParser\n",
    "from langchain_upstage import UpstageEmbeddings\n",
    "from langchain_upstage import ChatUpstage\n",
    "from langchain_core.messages import HumanMessage, SystemMessage\n",
    "\n",
    "\n",
    "\n",
    "import warnings\n",
    "warnings.filterwarnings(\"ignore\")\n",
    "\n",
    "print(\"Successfully imported libraries and modules\")"
   ]
  },
  {
   "cell_type": "code",
   "execution_count": 36,
   "metadata": {},
   "outputs": [],
   "source": [
    "Char_list = []\n",
    "\n",
    "def User_char():\n",
    "\n",
    "    UserAnswer=\"\"\n",
    "\n",
    "    Answer1=input(\"당신의 MBTI는 무엇입니까?\")\n",
    "    UserAnswer+=\"\\n당신의 MBTI는 무엇입니까?\\n\"+Answer1\n",
    "\n",
    "    Answer2=input(\"직무와 관련해, 어떤 역할을 맡고 싶나요?\")\n",
    "    UserAnswer+=\"\\n직무와 관련해, 어떤 역할을 맡고 싶나요?\\n\"+Answer2\n",
    "\n",
    "    Answer3=input(\"당신의 커리어는 어떻게 되나요?\")\n",
    "    UserAnswer+=\"\\n당신의 커리어는 어떻게 되나요?\\n\"+Answer3\n",
    "\n",
    "    Answer4=input(\"직무와 관련해, 당신의 관심사는 무엇인가요?\")\n",
    "    UserAnswer+=\"\\n직무와 관련해, 당신의 관심사는 무엇인가요?\\n\"+Answer4\n",
    "\n",
    "    Answer5=input(\"당신의 업무철학은 어떻게 되나요?\")\n",
    "    UserAnswer+=\"당신의 업무철학은 어떻게 되나요?\\n\"+Answer5\n",
    "\n",
    "    Char_list.append(UserAnswer)\n",
    "\n",
    "User_char()"
   ]
  },
  {
   "cell_type": "code",
   "execution_count": 37,
   "metadata": {},
   "outputs": [
    {
     "name": "stdout",
     "output_type": "stream",
     "text": [
      "Connection successful! 23.4.1.24.6\n"
     ]
    }
   ],
   "source": [
    "username=os.environ[\"DB_USER\"]\n",
    "password=os.environ[\"DB_PASSWORD\"]\n",
    "dsn=os.environ[\"DSN\"]\n",
    "\n",
    "con = oracledb.connect(user=username, password=password, dsn=dsn)\n",
    "\n",
    "try: \n",
    "    conn23c = oracledb.connect(user=username, password=password, dsn=dsn)\n",
    "    print(\"Connection successful!\", conn23c.version)\n",
    "except Exception as e:\n",
    "    print(\"Connection failed!\")\n",
    "\n"
   ]
  },
  {
   "cell_type": "code",
   "execution_count": 38,
   "metadata": {},
   "outputs": [],
   "source": [
    "cdocs = [Document(page_content=text) for text in Char_list]\n",
    "\n",
    "upstage_embeddings = UpstageEmbeddings(model=\"solar-embedding-1-large\")\n",
    "\n",
    "\n",
    "knowledge_base = OracleVS.from_documents(cdocs, upstage_embeddings, client=conn23c, \n",
    "                    table_name=\"text_embeddings2\", \n",
    "                    distance_strategy=DistanceStrategy.DOT_PRODUCT)   "
   ]
  },
  {
   "cell_type": "code",
   "execution_count": 39,
   "metadata": {},
   "outputs": [],
   "source": [
    "upstage_embeddings = UpstageEmbeddings(model=\"solar-embedding-1-large\")\n",
    "\n",
    "vector_store = OracleVS(client=conn23c, \n",
    "                        embedding_function=upstage_embeddings, \n",
    "                        table_name=\"text_embeddings2\", \n",
    "                        distance_strategy=DistanceStrategy.DOT_PRODUCT)\n",
    "\n"
   ]
  },
  {
   "cell_type": "code",
   "execution_count": 40,
   "metadata": {},
   "outputs": [
    {
     "name": "stdout",
     "output_type": "stream",
     "text": [
      "test\n",
      "Question:  집 가고 싶니\n",
      "----------------------------------------------------------------------------------------------------\n",
      "네, 집에 가고 싶습니다.\n",
      "Question:  언제 가고 싶니\n",
      "----------------------------------------------------------------------------------------------------\n",
      "집에 가고 싶은 시간이에요.\n",
      "Question:  퇴그하고 싶니\n",
      "----------------------------------------------------------------------------------------------------\n",
      "네, 집에 가고 싶습니다.\n",
      "집에 가고 싶은 시간이에요.\n",
      "Question:  그만 하자\n",
      "----------------------------------------------------------------------------------------------------\n",
      "집에 가고 싶은 시간이네요. 집에 가고 싶습니다.\n",
      "Question:  y\n",
      "----------------------------------------------------------------------------------------------------\n",
      "집에 가고 싶어요. 지금은 집에 가고 싶은 시간이에요. 퇴근하고 싶어요. 제 업무는 빨리 끝내는 것이 중요해요.\n"
     ]
    },
    {
     "ename": "IndexError",
     "evalue": "list index out of range",
     "output_type": "error",
     "traceback": [
      "\u001b[1;31m---------------------------------------------------------------------------\u001b[0m",
      "\u001b[1;31mIndexError\u001b[0m                                Traceback (most recent call last)",
      "Cell \u001b[1;32mIn[40], line 34\u001b[0m\n\u001b[0;32m     31\u001b[0m       \u001b[38;5;28;01mif\u001b[39;00m \u001b[38;5;28mnext\u001b[39m \u001b[38;5;241m==\u001b[39m \u001b[38;5;124m\"\u001b[39m\u001b[38;5;124my\u001b[39m\u001b[38;5;124m\"\u001b[39m :\n\u001b[0;32m     32\u001b[0m         \u001b[38;5;28;01mbreak\u001b[39;00m\n\u001b[1;32m---> 34\u001b[0m \u001b[43mRecom\u001b[49m\u001b[43m(\u001b[49m\u001b[43m)\u001b[49m\n",
      "Cell \u001b[1;32mIn[40], line 22\u001b[0m, in \u001b[0;36mRecom\u001b[1;34m()\u001b[0m\n\u001b[0;32m     20\u001b[0m retriever \u001b[38;5;241m=\u001b[39m vector_store\u001b[38;5;241m.\u001b[39mas_retriever()\n\u001b[0;32m     21\u001b[0m result_docs \u001b[38;5;241m=\u001b[39m retriever\u001b[38;5;241m.\u001b[39minvoke(uinput)\n\u001b[1;32m---> 22\u001b[0m response \u001b[38;5;241m=\u001b[39m chain\u001b[38;5;241m.\u001b[39minvoke({\u001b[38;5;124m\"\u001b[39m\u001b[38;5;124mquestion\u001b[39m\u001b[38;5;124m\"\u001b[39m: uinput, \u001b[38;5;124m\"\u001b[39m\u001b[38;5;124mcontext\u001b[39m\u001b[38;5;124m\"\u001b[39m: [\u001b[43mresult_docs\u001b[49m\u001b[43m[\u001b[49m\u001b[43mi\u001b[49m\u001b[43m]\u001b[49m]})\n\u001b[0;32m     23\u001b[0m \u001b[38;5;28mprint\u001b[39m(\u001b[38;5;124m\"\u001b[39m\u001b[38;5;124mQuestion: \u001b[39m\u001b[38;5;124m\"\u001b[39m, uinput)\n\u001b[0;32m     24\u001b[0m \u001b[38;5;28mprint\u001b[39m(\u001b[38;5;124m\"\u001b[39m\u001b[38;5;124m-\u001b[39m\u001b[38;5;124m\"\u001b[39m\u001b[38;5;241m*\u001b[39m\u001b[38;5;241m100\u001b[39m)\n",
      "\u001b[1;31mIndexError\u001b[0m: list index out of range"
     ]
    }
   ],
   "source": [
    "def Recom():\n",
    "  llm = ChatUpstage()\n",
    "  print(\"test\")\n",
    "\n",
    "  iinput=input(\"어떤 사람을 만나고 싶은지 설명해줄래?\")\n",
    "  \n",
    "  retriever = vector_store.as_retriever()\n",
    "  result_docs = retriever.invoke(iinput)\n",
    "\n",
    "  for i in range(4):\n",
    "      \n",
    "    template = \"\"\"너는 이제 이 데이터를 가진 사람을 연기해야해:\"\"\"\n",
    "    temp = \"\"\"\n",
    "           {context} \n",
    "           Question: {question} \n",
    "           Output: please, response in Korean\n",
    "           \"\"\"\n",
    "    \n",
    "\n",
    "\n",
    "    while(1):   \n",
    "      prompt = PromptTemplate.from_template(template + temp)\n",
    "      chain = prompt | llm | StrOutputParser()\n",
    "      uinput = (input(\"Give me a prompt\"))\n",
    "\n",
    "      response = chain.invoke({\"question\": uinput, \"context\": [result_docs[i]]})\n",
    "      print(\"Question: \", uinput)\n",
    "      print(\"-\"*100)\n",
    "      print(response)\n",
    "\n",
    "      template += \"Quesetion: \" + uinput\n",
    "      template += \"Answer: \" + response \n",
    "\n",
    "      next = input(\"exit? (y/n)\")\n",
    "      if next == \"y\" :\n",
    "        break\n",
    "\n",
    "Recom()"
   ]
  }
 ],
 "metadata": {
  "kernelspec": {
   "display_name": "Python 3",
   "language": "python",
   "name": "python3"
  },
  "language_info": {
   "codemirror_mode": {
    "name": "ipython",
    "version": 3
   },
   "file_extension": ".py",
   "mimetype": "text/x-python",
   "name": "python",
   "nbconvert_exporter": "python",
   "pygments_lexer": "ipython3",
   "version": "3.12.3"
  }
 },
 "nbformat": 4,
 "nbformat_minor": 2
}
